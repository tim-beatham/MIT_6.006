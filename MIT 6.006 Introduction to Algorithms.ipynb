{
 "cells": [
  {
   "cell_type": "markdown",
   "metadata": {},
   "source": [
    "# MIT 6.006 Introduction To Algorithms Course"
   ]
  },
  {
   "cell_type": "markdown",
   "metadata": {},
   "source": [
    "## Finding A Two-Dimensional Peak"
   ]
  },
  {
   "cell_type": "code",
   "execution_count": 29,
   "metadata": {},
   "outputs": [
    {
     "name": "stdout",
     "output_type": "stream",
     "text": [
      "(3, 2)\n"
     ]
    }
   ],
   "source": [
    "import sys\n",
    "\n",
    "from math import floor\n",
    "\n",
    "\"\"\"\n",
    "Returns the global maximum for the given column.\n",
    "\"\"\"\n",
    "def find_global_maximum(matrix, num_rows, num_cols,j):\n",
    "    maximum = -sys.maxsize\n",
    "    maxIndex = 0\n",
    "    \n",
    "    # Iterate of the jth column\n",
    "    for i in range(num_rows):\n",
    "        if (maximum < matrix[i][j]):\n",
    "            maxIndex = i\n",
    "            maximum = matrix[i][j]\n",
    "        \n",
    "    return maxIndex  \n",
    "\n",
    "\n",
    "\"\"\"\n",
    "Given a global maxima for a column \n",
    "the function returns the coordinates of the peak.\n",
    "\"\"\"\n",
    "def find_peak(matrix, num_rows, start_col, end_col):\n",
    "    num_cols = (end_col - start_col) + 1\n",
    "    middle = floor(start_col + num_cols / 2)\n",
    "    \n",
    "    maxRow = find_global_maximum(matrix, num_rows, num_cols, middle)\n",
    "\n",
    "    if (num_rows == 1):\n",
    "        return (maxRow, middle)\n",
    "    \n",
    "    # Determine the peak in the matrix\n",
    "    if (middle != 0):\n",
    "        if (matrix[maxRow][middle-1] > matrix[maxRow][middle]):\n",
    "            return find_peak(matrix, num_rows, start_col, middle - 1)    \n",
    "    \n",
    "    if (middle != end_col):\n",
    "        if (matrix[maxRow][middle + 1] > matrix[maxRow][middle]):\n",
    "            return find_peak(matrix, num_rows, middle + 1, end_col)\n",
    "        \n",
    "    return (maxRow, middle)      \n",
    "        \n",
    "    \n",
    "\n",
    "matrix = [[1,2,2,6], [7, 8, 50000, 10], [1, 5, 9000, 10000], [18, 20, 4333333, 19]]\n",
    "print(find_peak(matrix, 4, 0, 3)) "
   ]
  },
  {
   "cell_type": "markdown",
   "metadata": {},
   "source": [
    "## Computing Document Distance"
   ]
  },
  {
   "cell_type": "code",
   "execution_count": 30,
   "metadata": {},
   "outputs": [
    {
     "name": "stdout",
     "output_type": "stream",
     "text": [
      "0.0\n"
     ]
    }
   ],
   "source": [
    "from collections import defaultdict\n",
    "from math import acos\n",
    "from math import sqrt\n",
    "import re\n",
    "\n",
    "\"\"\"\n",
    "Returns a dictionary of the frequency\n",
    "of words in a dictionary\n",
    "\"\"\"\n",
    "def count_words(document):\n",
    "    document = document.lower()\n",
    "    \n",
    "    # Remove anything that is not in the alphabet\n",
    "    document = re.sub(r'[^a-z ]', '', document)\n",
    "    \n",
    "    # Split the document into constituent words\n",
    "    words = document.split()\n",
    "    \n",
    "    \"\"\" \n",
    "    Create a default dictionary where each element\n",
    "    has a default value of 0.\n",
    "    \"\"\"\n",
    "    wordDict = defaultdict(lambda: 0)\n",
    "    \n",
    "    for word in words: \n",
    "        wordDict[word]+=1\n",
    "        \n",
    "    \n",
    "    return wordDict, len(words)\n",
    "\n",
    "\n",
    "\"\"\"\n",
    "Calculates the magnitude of a dictionary.\n",
    "\"\"\"\n",
    "def vector_magnitude(doc):\n",
    "    sum_doc = 0\n",
    "    for value in doc.values():\n",
    "        sum_doc += value ** 2\n",
    "    \n",
    "    return sum_doc\n",
    "        \n",
    "\"\"\"\n",
    "Returns the dot cosine simmilarity \n",
    "of two strings.\n",
    "\"\"\"\n",
    "def dot_product(s1, s2):\n",
    "    dict1, num_words_1 = count_words(s1)\n",
    "    dict2, num_words_2 = count_words(s2)\n",
    "    \n",
    "    \n",
    "    # Compute the dot product of both dictionaries.\n",
    "    set_dict = set(dict1.keys()).union(set(dict2.keys()))\n",
    "    \n",
    "    sum_dict = 0\n",
    "    \n",
    "    for element in set_dict:\n",
    "        sum_dict += dict1[element] * dict2[element]\n",
    "        \n",
    "    # Compute the pythagorean magnitude of each document vector\n",
    "    return acos(sum_dict / (sqrt(vector_magnitude(dict1)) * sqrt(vector_magnitude(dict2))))\n",
    "\n",
    "print(dot_product(\"Hello, my name is tim bruh what is yours?\", \n",
    "                    \"Hello my name is tim bruh what is Yours\"))          "
   ]
  },
  {
   "cell_type": "markdown",
   "metadata": {},
   "source": [
    "## Insertion Sort"
   ]
  },
  {
   "cell_type": "code",
   "execution_count": 31,
   "metadata": {},
   "outputs": [
    {
     "name": "stdout",
     "output_type": "stream",
     "text": [
      "Sorted list [-100, 1, 2, 3, 50, 2020, 2044]\n"
     ]
    }
   ],
   "source": [
    "\"\"\"\n",
    "Implementation of insertion sort.\n",
    "Insertion sort has O(n^2) complexity.\n",
    "Does not require the creation of a new list.\n",
    "\"\"\"\n",
    "def insertion_sort(unsorted_list):\n",
    "    for i in range(len(unsorted_list)):\n",
    "        element = unsorted_list[i]\n",
    "        for j in range(i - 1, -1, -1):\n",
    "            if unsorted_list[j] > element:\n",
    "                # Swap\n",
    "                unsorted_list[j + 1] = unsorted_list[j]\n",
    "            else:\n",
    "                unsorted_list[j + 1] = element\n",
    "                break\n",
    "            \n",
    "            if j == 0:\n",
    "                unsorted_list[j] = element\n",
    "\n",
    "    return unsorted_list\n",
    "\n",
    "print(\"Sorted list\", insertion_sort([1, -100, 50, 2044, 2020, 3 ,2]))\n",
    "        "
   ]
  },
  {
   "cell_type": "markdown",
   "metadata": {},
   "source": [
    "## Merge Sort"
   ]
  },
  {
   "cell_type": "code",
   "execution_count": 46,
   "metadata": {},
   "outputs": [
    {
     "name": "stdout",
     "output_type": "stream",
     "text": [
      "[-1000, 2, 3, 5, 9, 134]\n"
     ]
    }
   ],
   "source": [
    "def merge(list1, list2, result_list):\n",
    "    count_l1 = 0\n",
    "    count_l2 = 0\n",
    "    \n",
    "    counter = 0\n",
    "    \n",
    "    while count_l1 < len(list1) and count_l2 < len(list2):\n",
    "        if list1[count_l1] <= list2[count_l2]:\n",
    "            result_list[counter] = list1[count_l1]\n",
    "            count_l1 += 1\n",
    "        else:\n",
    "            result_list[counter] = list2[count_l2]\n",
    "            count_l2 += 1\n",
    "        \n",
    "        counter += 1\n",
    "        \n",
    "    while count_l1 < len(list1):\n",
    "        result_list[counter] = list1[count_l1]\n",
    "        counter += 1\n",
    "        count_l1 += 1\n",
    "        \n",
    "    while count_l2 < len(list2):\n",
    "        result_list[counter] = list2[count_l2]\n",
    "        counter += 1\n",
    "        count_l2 += 1\n",
    "        \n",
    "    return result_list\n",
    "\n",
    "\"\"\"\n",
    "Carries out merge sort on the \n",
    "given list\n",
    "\"\"\"\n",
    "def merge_sort(unsorted_list):\n",
    "    if len(unsorted_list) == 1:\n",
    "        return unsorted_list\n",
    "    \n",
    "    middle = floor(len(unsorted_list) / 2)\n",
    "    \n",
    "    split_left = merge_sort(unsorted_list[:middle])\n",
    "    split_right = merge_sort(unsorted_list[floor(len(unsorted_list) / 2):])\n",
    "    \n",
    "    return merge(split_left, split_right, unsorted_list) \n",
    "\n",
    "print(merge_sort([3,5,2,134,9, -1000]))"
   ]
  },
  {
   "cell_type": "markdown",
   "metadata": {},
   "source": [
    "## Heap Data Structure"
   ]
  },
  {
   "cell_type": "markdown",
   "metadata": {},
   "source": [
    "## Heap Sort"
   ]
  }
 ],
 "metadata": {
  "kernelspec": {
   "display_name": "Python 3",
   "language": "python",
   "name": "python3"
  },
  "language_info": {
   "codemirror_mode": {
    "name": "ipython",
    "version": 3
   },
   "file_extension": ".py",
   "mimetype": "text/x-python",
   "name": "python",
   "nbconvert_exporter": "python",
   "pygments_lexer": "ipython3",
   "version": "3.7.6"
  }
 },
 "nbformat": 4,
 "nbformat_minor": 4
}
